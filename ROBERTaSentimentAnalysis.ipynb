{
 "cells": [
  {
   "cell_type": "markdown",
   "id": "e9caff36-0a9f-4014-a5b2-6ac2f760835b",
   "metadata": {},
   "source": [
    "# EMOTION DETECTION USING TEXT USING ROBERTa AND SENTIMENT ANALYSIS  \n",
    "<div style='text-align:right;'><b>By AJEETH KUMAR G</b></div>"
   ]
  },
  {
   "cell_type": "markdown",
   "id": "68cc844c-726d-4d6e-b2c0-c50b4017150f",
   "metadata": {},
   "source": [
    "## LIBRARY IMPORT "
   ]
  },
  {
   "cell_type": "code",
   "execution_count": 3,
   "id": "fd2fd068-ce30-437b-9a41-744e26a43039",
   "metadata": {},
   "outputs": [
    {
     "data": {
      "text/plain": [
       "'2.5.1+cpu'"
      ]
     },
     "execution_count": 3,
     "metadata": {},
     "output_type": "execute_result"
    }
   ],
   "source": [
    "import torch\n",
    "torch.__version__"
   ]
  },
  {
   "cell_type": "code",
   "execution_count": 4,
   "id": "76fd6e50-3808-478f-8920-24cd40641431",
   "metadata": {},
   "outputs": [],
   "source": [
    "#!pip install huggingface_hub[hf_xet]\n"
   ]
  },
  {
   "cell_type": "code",
   "execution_count": 5,
   "id": "4e99276e-393a-4c38-87c5-722b53db6f0e",
   "metadata": {},
   "outputs": [],
   "source": [
    "#!pip install ipywidgets"
   ]
  },
  {
   "cell_type": "code",
   "execution_count": 6,
   "id": "03a2d987-2537-4b82-9459-89c90ae93d92",
   "metadata": {},
   "outputs": [],
   "source": [
    "#!pip install transformers"
   ]
  },
  {
   "cell_type": "code",
   "execution_count": 7,
   "id": "31468134-937a-42b5-9963-a93c0f420af5",
   "metadata": {},
   "outputs": [
    {
     "name": "stdout",
     "output_type": "stream",
     "text": [
      "Requirement already satisfied: jupyterlab_widgets in d:\\python_anaconda\\lib\\site-packages (1.0.0)\n"
     ]
    }
   ],
   "source": [
    "!pip install jupyterlab_widgets\n"
   ]
  },
  {
   "cell_type": "code",
   "execution_count": 8,
   "id": "ca6ae3db-ebc3-456d-bae2-d9941a0a7f47",
   "metadata": {},
   "outputs": [],
   "source": [
    "import pandas as aju\n",
    "import numpy as np\n",
    "import seaborn as sns\n",
    "import matplotlib.pyplot as plt\n",
    "import warnings\n",
    "import nltk\n",
    "\n",
    "from tqdm.notebook import tqdm\n",
    "from transformers import AutoTokenizer,AutoModelForSequenceClassification\n",
    "from scipy.special import softmax"
   ]
  },
  {
   "cell_type": "markdown",
   "id": "c72a921b-5226-4fbc-ad7a-fd78beb33fa7",
   "metadata": {},
   "source": [
    "**Downloading *punkt* tokenizer model**"
   ]
  },
  {
   "cell_type": "code",
   "execution_count": 10,
   "id": "2f5e314d-5d1e-4f7a-b1ed-a13c232d1a76",
   "metadata": {},
   "outputs": [],
   "source": [
    "#nltk.download('punkt')"
   ]
  },
  {
   "cell_type": "markdown",
   "id": "1b106cda-090b-43a3-9afb-54d03f4984d3",
   "metadata": {},
   "source": [
    "**Downloading nltk *pos-tagger* model**"
   ]
  },
  {
   "cell_type": "code",
   "execution_count": 12,
   "id": "25368af7-df4e-42a7-acec-99654577be8b",
   "metadata": {},
   "outputs": [],
   "source": [
    "#nltk.download('averaged_perceptron_tagger')"
   ]
  },
  {
   "cell_type": "markdown",
   "id": "abd21e09-4faf-486e-a365-cccbbf54968d",
   "metadata": {},
   "source": [
    "**Downloading nltk*maxent_ne_chunker* chunk model**"
   ]
  },
  {
   "cell_type": "code",
   "execution_count": 14,
   "id": "a7492348-a1b0-4be2-bd71-1aff752e8633",
   "metadata": {},
   "outputs": [],
   "source": [
    "#nltk.download('maxent_ne_chunker')"
   ]
  },
  {
   "cell_type": "code",
   "execution_count": 15,
   "id": "50512bb2-d5ff-4470-82e6-466c02a29462",
   "metadata": {},
   "outputs": [],
   "source": [
    "#nltk.download('words')"
   ]
  },
  {
   "cell_type": "code",
   "execution_count": 16,
   "id": "2122342d-c9e5-4aaa-9b96-296039d32caf",
   "metadata": {},
   "outputs": [],
   "source": [
    "warnings.filterwarnings('ignore')"
   ]
  },
  {
   "cell_type": "code",
   "execution_count": 17,
   "id": "9b42057b-ae76-4097-9e19-61a6fadb9152",
   "metadata": {},
   "outputs": [],
   "source": [
    "#!jupyter labextension install @jupyter-widgets/jupyterlab-manager"
   ]
  },
  {
   "cell_type": "markdown",
   "id": "b96af431-12a1-468f-bf30-384ccdd47816",
   "metadata": {},
   "source": [
    "## DATA IMPORT "
   ]
  },
  {
   "cell_type": "code",
   "execution_count": 19,
   "id": "7faef9e0-45cf-4abf-871e-4a5a4a8396f3",
   "metadata": {},
   "outputs": [],
   "source": [
    "df = aju.read_csv('./Reviews.csv')"
   ]
  },
  {
   "cell_type": "markdown",
   "id": "cf8da1a2-9d60-42d8-a620-f63ec4cf83c2",
   "metadata": {},
   "source": [
    "## EXPLORATION "
   ]
  },
  {
   "cell_type": "code",
   "execution_count": 21,
   "id": "ed2689b0-ad2d-4b6b-b365-dfc4ede4c41c",
   "metadata": {},
   "outputs": [
    {
     "data": {
      "text/html": [
       "<div>\n",
       "<style scoped>\n",
       "    .dataframe tbody tr th:only-of-type {\n",
       "        vertical-align: middle;\n",
       "    }\n",
       "\n",
       "    .dataframe tbody tr th {\n",
       "        vertical-align: top;\n",
       "    }\n",
       "\n",
       "    .dataframe thead th {\n",
       "        text-align: right;\n",
       "    }\n",
       "</style>\n",
       "<table border=\"1\" class=\"dataframe\">\n",
       "  <thead>\n",
       "    <tr style=\"text-align: right;\">\n",
       "      <th></th>\n",
       "      <th>Id</th>\n",
       "      <th>ProductId</th>\n",
       "      <th>UserId</th>\n",
       "      <th>ProfileName</th>\n",
       "      <th>HelpfulnessNumerator</th>\n",
       "      <th>HelpfulnessDenominator</th>\n",
       "      <th>Score</th>\n",
       "      <th>Time</th>\n",
       "      <th>Summary</th>\n",
       "      <th>Text</th>\n",
       "    </tr>\n",
       "  </thead>\n",
       "  <tbody>\n",
       "    <tr>\n",
       "      <th>0</th>\n",
       "      <td>1</td>\n",
       "      <td>B001E4KFG0</td>\n",
       "      <td>A3SGXH7AUHU8GW</td>\n",
       "      <td>delmartian</td>\n",
       "      <td>1</td>\n",
       "      <td>1</td>\n",
       "      <td>5</td>\n",
       "      <td>1303862400</td>\n",
       "      <td>Good Quality Dog Food</td>\n",
       "      <td>I have bought several of the Vitality canned d...</td>\n",
       "    </tr>\n",
       "    <tr>\n",
       "      <th>1</th>\n",
       "      <td>2</td>\n",
       "      <td>B00813GRG4</td>\n",
       "      <td>A1D87F6ZCVE5NK</td>\n",
       "      <td>dll pa</td>\n",
       "      <td>0</td>\n",
       "      <td>0</td>\n",
       "      <td>1</td>\n",
       "      <td>1346976000</td>\n",
       "      <td>Not as Advertised</td>\n",
       "      <td>Product arrived labeled as Jumbo Salted Peanut...</td>\n",
       "    </tr>\n",
       "    <tr>\n",
       "      <th>2</th>\n",
       "      <td>3</td>\n",
       "      <td>B000LQOCH0</td>\n",
       "      <td>ABXLMWJIXXAIN</td>\n",
       "      <td>Natalia Corres \"Natalia Corres\"</td>\n",
       "      <td>1</td>\n",
       "      <td>1</td>\n",
       "      <td>4</td>\n",
       "      <td>1219017600</td>\n",
       "      <td>\"Delight\" says it all</td>\n",
       "      <td>This is a confection that has been around a fe...</td>\n",
       "    </tr>\n",
       "    <tr>\n",
       "      <th>3</th>\n",
       "      <td>4</td>\n",
       "      <td>B000UA0QIQ</td>\n",
       "      <td>A395BORC6FGVXV</td>\n",
       "      <td>Karl</td>\n",
       "      <td>3</td>\n",
       "      <td>3</td>\n",
       "      <td>2</td>\n",
       "      <td>1307923200</td>\n",
       "      <td>Cough Medicine</td>\n",
       "      <td>If you are looking for the secret ingredient i...</td>\n",
       "    </tr>\n",
       "    <tr>\n",
       "      <th>4</th>\n",
       "      <td>5</td>\n",
       "      <td>B006K2ZZ7K</td>\n",
       "      <td>A1UQRSCLF8GW1T</td>\n",
       "      <td>Michael D. Bigham \"M. Wassir\"</td>\n",
       "      <td>0</td>\n",
       "      <td>0</td>\n",
       "      <td>5</td>\n",
       "      <td>1350777600</td>\n",
       "      <td>Great taffy</td>\n",
       "      <td>Great taffy at a great price.  There was a wid...</td>\n",
       "    </tr>\n",
       "  </tbody>\n",
       "</table>\n",
       "</div>"
      ],
      "text/plain": [
       "   Id   ProductId          UserId                      ProfileName  \\\n",
       "0   1  B001E4KFG0  A3SGXH7AUHU8GW                       delmartian   \n",
       "1   2  B00813GRG4  A1D87F6ZCVE5NK                           dll pa   \n",
       "2   3  B000LQOCH0   ABXLMWJIXXAIN  Natalia Corres \"Natalia Corres\"   \n",
       "3   4  B000UA0QIQ  A395BORC6FGVXV                             Karl   \n",
       "4   5  B006K2ZZ7K  A1UQRSCLF8GW1T    Michael D. Bigham \"M. Wassir\"   \n",
       "\n",
       "   HelpfulnessNumerator  HelpfulnessDenominator  Score        Time  \\\n",
       "0                     1                       1      5  1303862400   \n",
       "1                     0                       0      1  1346976000   \n",
       "2                     1                       1      4  1219017600   \n",
       "3                     3                       3      2  1307923200   \n",
       "4                     0                       0      5  1350777600   \n",
       "\n",
       "                 Summary                                               Text  \n",
       "0  Good Quality Dog Food  I have bought several of the Vitality canned d...  \n",
       "1      Not as Advertised  Product arrived labeled as Jumbo Salted Peanut...  \n",
       "2  \"Delight\" says it all  This is a confection that has been around a fe...  \n",
       "3         Cough Medicine  If you are looking for the secret ingredient i...  \n",
       "4            Great taffy  Great taffy at a great price.  There was a wid...  "
      ]
     },
     "execution_count": 21,
     "metadata": {},
     "output_type": "execute_result"
    }
   ],
   "source": [
    "df.head()"
   ]
  },
  {
   "cell_type": "code",
   "execution_count": 22,
   "id": "251500d6-fcf4-4a52-81c9-b4659acf0bbd",
   "metadata": {},
   "outputs": [
    {
     "data": {
      "text/plain": [
       "(568454, 10)"
      ]
     },
     "execution_count": 22,
     "metadata": {},
     "output_type": "execute_result"
    }
   ],
   "source": [
    "df.shape"
   ]
  },
  {
   "cell_type": "code",
   "execution_count": 23,
   "id": "518bcfab-7477-4908-9a9a-8d74aaf3856d",
   "metadata": {},
   "outputs": [
    {
     "name": "stdout",
     "output_type": "stream",
     "text": [
      "<class 'pandas.core.frame.DataFrame'>\n",
      "RangeIndex: 568454 entries, 0 to 568453\n",
      "Data columns (total 10 columns):\n",
      " #   Column                  Non-Null Count   Dtype \n",
      "---  ------                  --------------   ----- \n",
      " 0   Id                      568454 non-null  int64 \n",
      " 1   ProductId               568454 non-null  object\n",
      " 2   UserId                  568454 non-null  object\n",
      " 3   ProfileName             568428 non-null  object\n",
      " 4   HelpfulnessNumerator    568454 non-null  int64 \n",
      " 5   HelpfulnessDenominator  568454 non-null  int64 \n",
      " 6   Score                   568454 non-null  int64 \n",
      " 7   Time                    568454 non-null  int64 \n",
      " 8   Summary                 568427 non-null  object\n",
      " 9   Text                    568454 non-null  object\n",
      "dtypes: int64(5), object(5)\n",
      "memory usage: 43.4+ MB\n"
     ]
    }
   ],
   "source": [
    "df.info()"
   ]
  },
  {
   "cell_type": "code",
   "execution_count": 24,
   "id": "ebff577a-bb08-4b49-be9f-1552fac93609",
   "metadata": {},
   "outputs": [
    {
     "data": {
      "text/plain": [
       "Id                         0\n",
       "ProductId                  0\n",
       "UserId                     0\n",
       "ProfileName               26\n",
       "HelpfulnessNumerator       0\n",
       "HelpfulnessDenominator     0\n",
       "Score                      0\n",
       "Time                       0\n",
       "Summary                   27\n",
       "Text                       0\n",
       "dtype: int64"
      ]
     },
     "execution_count": 24,
     "metadata": {},
     "output_type": "execute_result"
    }
   ],
   "source": [
    "df.isna().sum()"
   ]
  },
  {
   "cell_type": "code",
   "execution_count": 25,
   "id": "86566cf9-de92-40bf-87b4-b72f0a8c5fd3",
   "metadata": {},
   "outputs": [
    {
     "data": {
      "text/plain": [
       "Score\n",
       "5    363122\n",
       "4     80655\n",
       "1     52268\n",
       "3     42640\n",
       "2     29769\n",
       "Name: count, dtype: int64"
      ]
     },
     "execution_count": 25,
     "metadata": {},
     "output_type": "execute_result"
    }
   ],
   "source": [
    "df['Score'].value_counts()"
   ]
  },
  {
   "cell_type": "code",
   "execution_count": 26,
   "id": "78f16a70-72ac-4194-892a-1c4a6888444f",
   "metadata": {},
   "outputs": [
    {
     "data": {
      "text/plain": [
       "Id                        0\n",
       "ProductId                 0\n",
       "UserId                    0\n",
       "ProfileName               0\n",
       "HelpfulnessNumerator      0\n",
       "HelpfulnessDenominator    0\n",
       "Score                     0\n",
       "Time                      0\n",
       "Summary                   0\n",
       "Text                      0\n",
       "dtype: int64"
      ]
     },
     "execution_count": 26,
     "metadata": {},
     "output_type": "execute_result"
    }
   ],
   "source": [
    "df1 = df.dropna()\n",
    "df1.isna().sum()"
   ]
  },
  {
   "cell_type": "code",
   "execution_count": 27,
   "id": "090671ae-82b7-4bf7-b15b-25592cb4d6e6",
   "metadata": {},
   "outputs": [
    {
     "data": {
      "text/plain": [
       "(568401, 10)"
      ]
     },
     "execution_count": 27,
     "metadata": {},
     "output_type": "execute_result"
    }
   ],
   "source": [
    "df1.shape"
   ]
  },
  {
   "cell_type": "code",
   "execution_count": 28,
   "id": "b1f2d639-a105-44b7-ba32-4c42fb6c1084",
   "metadata": {},
   "outputs": [
    {
     "data": {
      "text/plain": [
       "Score\n",
       "5    363102\n",
       "4     80654\n",
       "1     52264\n",
       "3     42638\n",
       "2     29743\n",
       "Name: count, dtype: int64"
      ]
     },
     "execution_count": 28,
     "metadata": {},
     "output_type": "execute_result"
    }
   ],
   "source": [
    "df1.Score.value_counts()"
   ]
  },
  {
   "cell_type": "code",
   "execution_count": 29,
   "id": "d6d999a9-e153-431e-8657-eda99422afc3",
   "metadata": {},
   "outputs": [
    {
     "data": {
      "text/plain": [
       "<Axes: title={'center': 'Count of Review stars '}, xlabel='Score'>"
      ]
     },
     "execution_count": 29,
     "metadata": {},
     "output_type": "execute_result"
    },
    {
     "data": {
      "image/png": "[encoded data removed]",
      "text/plain": [
       "<Figure size 640x480 with 1 Axes>"
      ]
     },
     "metadata": {},
     "output_type": "display_data"
    }
   ],
   "source": [
    "df1.Score.value_counts().plot(kind = 'bar',title = 'Count of Review stars ')"
   ]
  },
  {
   "cell_type": "code",
   "execution_count": 30,
   "id": "21103485-0cb2-4b2d-b904-511d4dca05e7",
   "metadata": {},
   "outputs": [
    {
     "data": {
      "text/plain": [
       "(500, 10)"
      ]
     },
     "execution_count": 30,
     "metadata": {},
     "output_type": "execute_result"
    }
   ],
   "source": [
    "df2 = df.head(500)\n",
    "df2.shape"
   ]
  },
  {
   "cell_type": "code",
   "execution_count": 31,
   "id": "c9d807d1-d930-4cbe-85fb-1e7480840fa7",
   "metadata": {},
   "outputs": [
    {
     "data": {
      "text/plain": [
       "Id                        0\n",
       "ProductId                 0\n",
       "UserId                    0\n",
       "ProfileName               0\n",
       "HelpfulnessNumerator      0\n",
       "HelpfulnessDenominator    0\n",
       "Score                     0\n",
       "Time                      0\n",
       "Summary                   0\n",
       "Text                      0\n",
       "dtype: int64"
      ]
     },
     "execution_count": 31,
     "metadata": {},
     "output_type": "execute_result"
    }
   ],
   "source": [
    "df2.isna().sum()"
   ]
  },
  {
   "cell_type": "markdown",
   "id": "10263c51-1121-4abc-ac66-4c73ebd61d40",
   "metadata": {},
   "source": [
    "## EXPLORING BASIC NLTK"
   ]
  },
  {
   "cell_type": "code",
   "execution_count": 33,
   "id": "9881ddca-5311-405e-906c-1b6918a76c43",
   "metadata": {},
   "outputs": [
    {
     "data": {
      "text/plain": [
       "\"This oatmeal is not good. Its mushy, soft, I don't like it. Quaker Oats is the way to go.\""
      ]
     },
     "execution_count": 33,
     "metadata": {},
     "output_type": "execute_result"
    }
   ],
   "source": [
    "eg = df2.Text[50]\n",
    "eg"
   ]
  },
  {
   "cell_type": "code",
   "execution_count": 34,
   "id": "d4c72d25-0747-4b65-84bd-6544b0ad7071",
   "metadata": {},
   "outputs": [
    {
     "data": {
      "text/plain": [
       "['This',\n",
       " 'oatmeal',\n",
       " 'is',\n",
       " 'not',\n",
       " 'good',\n",
       " '.',\n",
       " 'Its',\n",
       " 'mushy',\n",
       " ',',\n",
       " 'soft',\n",
       " ',',\n",
       " 'I',\n",
       " 'do',\n",
       " \"n't\",\n",
       " 'like',\n",
       " 'it',\n",
       " '.',\n",
       " 'Quaker',\n",
       " 'Oats',\n",
       " 'is',\n",
       " 'the',\n",
       " 'way',\n",
       " 'to',\n",
       " 'go',\n",
       " '.']"
      ]
     },
     "execution_count": 34,
     "metadata": {},
     "output_type": "execute_result"
    }
   ],
   "source": [
    "nltk.word_tokenize(eg)"
   ]
  },
  {
   "cell_type": "code",
   "execution_count": 35,
   "id": "f21f50b0-14bc-47bd-9e0e-0f57fe005f5f",
   "metadata": {},
   "outputs": [
    {
     "data": {
      "text/plain": [
       "['This', 'oatmeal', 'is', 'not', 'good', '.', 'Its', 'mushy', ',', 'soft']"
      ]
     },
     "execution_count": 35,
     "metadata": {},
     "output_type": "execute_result"
    }
   ],
   "source": [
    "tokens = nltk.word_tokenize(eg)\n",
    "tokens[:10]"
   ]
  },
  {
   "cell_type": "code",
   "execution_count": 36,
   "id": "69197a8f-5c2f-4662-a1ab-715e62b67817",
   "metadata": {},
   "outputs": [
    {
     "data": {
      "text/plain": [
       "[('This', 'DT'),\n",
       " ('oatmeal', 'NN'),\n",
       " ('is', 'VBZ'),\n",
       " ('not', 'RB'),\n",
       " ('good', 'JJ'),\n",
       " ('.', '.'),\n",
       " ('Its', 'PRP$'),\n",
       " ('mushy', 'NN'),\n",
       " (',', ','),\n",
       " ('soft', 'JJ'),\n",
       " (',', ','),\n",
       " ('I', 'PRP'),\n",
       " ('do', 'VBP'),\n",
       " (\"n't\", 'RB'),\n",
       " ('like', 'VB'),\n",
       " ('it', 'PRP'),\n",
       " ('.', '.'),\n",
       " ('Quaker', 'NNP'),\n",
       " ('Oats', 'NNPS'),\n",
       " ('is', 'VBZ'),\n",
       " ('the', 'DT'),\n",
       " ('way', 'NN'),\n",
       " ('to', 'TO'),\n",
       " ('go', 'VB'),\n",
       " ('.', '.')]"
      ]
     },
     "execution_count": 36,
     "metadata": {},
     "output_type": "execute_result"
    }
   ],
   "source": [
    "nltk.pos_tag(tokens) # PARTS OF SPEECH TAGS"
   ]
  },
  {
   "cell_type": "code",
   "execution_count": 37,
   "id": "059e66e5-465e-4104-832d-b8640040b128",
   "metadata": {},
   "outputs": [
    {
     "data": {
      "text/plain": [
       "[('This', 'DT'),\n",
       " ('oatmeal', 'NN'),\n",
       " ('is', 'VBZ'),\n",
       " ('not', 'RB'),\n",
       " ('good', 'JJ'),\n",
       " ('.', '.'),\n",
       " ('Its', 'PRP$'),\n",
       " ('mushy', 'NN'),\n",
       " (',', ','),\n",
       " ('soft', 'JJ')]"
      ]
     },
     "execution_count": 37,
     "metadata": {},
     "output_type": "execute_result"
    }
   ],
   "source": [
    "tagged = nltk.pos_tag(tokens)\n",
    "tagged[:10]"
   ]
  },
  {
   "cell_type": "code",
   "execution_count": 38,
   "id": "db2497e6-ad4e-46c9-8149-79c20e6587b3",
   "metadata": {},
   "outputs": [],
   "source": [
    "##!pip install svgling"
   ]
  },
  {
   "cell_type": "code",
   "execution_count": 39,
   "id": "84acf67d-62a2-4af9-af56-9030b991a6ab",
   "metadata": {},
   "outputs": [
    {
     "name": "stdout",
     "output_type": "stream",
     "text": [
      "(S\n",
      "  This/DT\n",
      "  oatmeal/NN\n",
      "  is/VBZ\n",
      "  not/RB\n",
      "  good/JJ\n",
      "  ./.\n",
      "  Its/PRP$\n",
      "  mushy/NN\n",
      "  ,/,\n",
      "  soft/JJ\n",
      "  ,/,\n",
      "  I/PRP\n",
      "  do/VBP\n",
      "  n't/RB\n",
      "  like/VB\n",
      "  it/PRP\n",
      "  ./.\n",
      "  (ORGANIZATION Quaker/NNP Oats/NNPS)\n",
      "  is/VBZ\n",
      "  the/DT\n",
      "  way/NN\n",
      "  to/TO\n",
      "  go/VB\n",
      "  ./.)\n"
     ]
    }
   ],
   "source": [
    "entity = nltk.chunk.ne_chunk(tagged)\n",
    "entity.pprint()"
   ]
  },
  {
   "cell_type": "markdown",
   "id": "65a23e44-08cb-41bc-a20a-1e30bb2e5b51",
   "metadata": {},
   "source": [
    "## ROBERTa MODEL"
   ]
  },
  {
   "cell_type": "markdown",
   "id": "05c90752-90ea-4c91-b87e-152120a9149d",
   "metadata": {},
   "source": [
    "**AS THIS PROGRAM CAN RUNNING ONLY BY CPU NOT GPU... WE USE ONLY 500 RECORDS FROM THE DATASET**"
   ]
  },
  {
   "cell_type": "code",
   "execution_count": 42,
   "id": "1d29f240-568a-48aa-8319-63137d84bfcd",
   "metadata": {},
   "outputs": [
    {
     "data": {
      "text/plain": [
       "(500, 10)"
      ]
     },
     "execution_count": 42,
     "metadata": {},
     "output_type": "execute_result"
    }
   ],
   "source": [
    "df2.shape"
   ]
  },
  {
   "cell_type": "markdown",
   "id": "05546d84-fd8d-42b6-9a98-97ce5e920023",
   "metadata": {},
   "source": [
    "**WE ARE USING A PRETRAINED ROBERTa MODEL *cardiffnlp/twitter-roberta-base-sentiment***"
   ]
  },
  {
   "cell_type": "code",
   "execution_count": 45,
   "id": "b0785a2b-c9d9-41ea-b949-cf963f7e7812",
   "metadata": {},
   "outputs": [],
   "source": [
    "from transformers import pipeline"
   ]
  },
  {
   "cell_type": "code",
   "execution_count": 49,
   "id": "3f989626-90df-4008-b7f8-10207c788980",
   "metadata": {},
   "outputs": [],
   "source": [
    "#sent_pipeline = pipeline(\"sentiment-analysis\")"
   ]
  }
 ],
 "metadata": {
  "kernelspec": {
   "display_name": "Python 3 (ipykernel)",
   "language": "python",
   "name": "python3"
  },
  "language_info": {
   "codemirror_mode": {
    "name": "ipython",
    "version": 3
   },
   "file_extension": ".py",
   "mimetype": "text/x-python",
   "name": "python",
   "nbconvert_exporter": "python",
   "pygments_lexer": "ipython3",
   "version": "3.12.4"
  }
 },
 "nbformat": 4,
 "nbformat_minor": 5
}
